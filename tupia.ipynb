{
  "nbformat": 4,
  "nbformat_minor": 0,
  "metadata": {
    "colab": {
      "provenance": [],
      "authorship_tag": "ABX9TyNzY/JfSDpLlyc67t3OG0bk",
      "include_colab_link": true
    },
    "kernelspec": {
      "name": "python3",
      "display_name": "Python 3"
    },
    "language_info": {
      "name": "python"
    }
  },
  "cells": [
    {
      "cell_type": "markdown",
      "metadata": {
        "id": "view-in-github",
        "colab_type": "text"
      },
      "source": [
        "<a href=\"https://colab.research.google.com/github/marmojezz/tupia/blob/18-criar-link-entre-colab-e-o-repositrio/tupia.ipynb\" target=\"_parent\"><img src=\"https://colab.research.google.com/assets/colab-badge.svg\" alt=\"Open In Colab\"/></a>"
      ]
    },
    {
      "cell_type": "code",
      "execution_count": null,
      "metadata": {
        "id": "iG1Lc18iwaea"
      },
      "outputs": [],
      "source": [
        "# Tupia\n",
        "\n",
        "import google.generativeai as tupia\n",
        "\n",
        "tupia.config(api_key=\"\")"
      ]
    }
  ]
}